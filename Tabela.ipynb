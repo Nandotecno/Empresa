{
 "cells": [
  {
   "cell_type": "code",
   "execution_count": null,
   "metadata": {},
   "outputs": [],
   "source": [
    "import sqlite3\n",
    "conn = sqlite3.connect(\"galeria.db\")\n",
    "cursor = conn.cursor()\n",
    "def criar_tabela():\n",
    "  sql = \"\"\"\n",
    "  CREATE TABLE albuns(titulo text, artista text, data_lancamento text, data_publicacao text, midia text)\n",
    "  \"\"\"\n",
    "  cursor.execute(sql)\n",
    "  conn.commit()"
   ]
  },
  {
   "cell_type": "code",
   "execution_count": null,
   "metadata": {},
   "outputs": [],
   "source": [
    "import Tabela\n",
    "Tabela.criar_tabela()\n"
   ]
  }
 ],
 "metadata": {
  "language_info": {
   "name": "python"
  },
  "orig_nbformat": 4
 },
 "nbformat": 4,
 "nbformat_minor": 2
}
